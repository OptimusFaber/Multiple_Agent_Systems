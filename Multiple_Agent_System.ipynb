{
 "cells": [
  {
   "cell_type": "code",
   "execution_count": 77,
   "metadata": {
    "pycharm": {
     "name": "#%%\n"
    }
   },
   "outputs": [],
   "source": [
    "import math\n",
    "import random\n",
    "import numpy as np\n",
    "import pandas as pd\n",
    "# from tqdm import tqdm"
   ]
  },
  {
   "cell_type": "markdown",
   "metadata": {
    "pycharm": {
     "name": "#%% md\n"
    }
   },
   "source": [
    "# **Часть первая**\n",
    "**Я тут не буду брать в расчет вес рюкзака, время. Рассмотрим работу различных алгоритмов**"
   ]
  },
  {
   "cell_type": "code",
   "execution_count": 78,
   "metadata": {
    "pycharm": {
     "name": "#%%\n"
    }
   },
   "outputs": [],
   "source": [
    "class Courier:\n",
    "    def __init__(self, ln, wd):\n",
    "        self.pos = [random.randint(0, wd), random.randint(0, ln)]\n",
    "        self.price = random.randint(25, 40)\n",
    "\n",
    "    def __str__(self):\n",
    "        return 'Courier on {} {} cell, his price is {}'.format(self.pos[0], self.pos[1], self.price)\n",
    "\n",
    "\n",
    "class Order:\n",
    "    def __init__(self, pos1, pos2, price):\n",
    "        self.pos1 = pos1\n",
    "        self.pos2 = pos2\n",
    "        self.price = price\n",
    "\n",
    "    def __str__(self):\n",
    "        return 'Order at ({},{}) cell, the point is at ({},{}), price is {}'.format(self.pos1[0], self.pos1[1],\n",
    "                                                                                    self.pos2[0], self.pos2[1],\n",
    "                                                                                    self.price)"
   ]
  },
  {
   "cell_type": "markdown",
   "metadata": {
    "pycharm": {
     "name": "#%% md\n"
    }
   },
   "source": [
    "**По ходу наптсания кода, функции будут изменяться с добавлением параметров. Точно так же и с классами Заказа и Курьера**"
   ]
  },
  {
   "cell_type": "code",
   "execution_count": 79,
   "metadata": {
    "pycharm": {
     "name": "#%%\n"
    }
   },
   "outputs": [],
   "source": [
    "def dist_count(pos1, pos2):\n",
    "    dist = math.sqrt((pos1[0] - pos2[0]) ** 2 + (pos1[1] - pos2[1]) ** 2)\n",
    "    return dist\n",
    "\n",
    "\n",
    "def income_count(order, courier):\n",
    "    dst = dist_count(courier.pos, order.pos1) + dist_count(order.pos1, order.pos2)\n",
    "    income = order.price - courier.price * dst / 10\n",
    "    return income\n",
    "\n",
    "\n",
    "def order_parse(file_name):\n",
    "    raf = []\n",
    "    file = open(file_name).readlines()\n",
    "    for i in range(len(file)):\n",
    "        buf = file[i].split(' ')\n",
    "        buf[0] = list(map(int, buf[0].replace('(', '').replace(')', '').split(',')))\n",
    "        buf[1] = list(map(int, buf[1].replace('(', '').replace(')', '').split(',')))\n",
    "        buf[2] = int(buf[2])\n",
    "        raf.append(Order(buf[0], buf[1], buf[2]))\n",
    "    return raf"
   ]
  },
  {
   "cell_type": "markdown",
   "metadata": {
    "pycharm": {
     "name": "#%% md\n"
    }
   },
   "source": [
    "**Сделаем 9 курьеров на 7 заказов**"
   ]
  },
  {
   "cell_type": "code",
   "execution_count": 80,
   "metadata": {
    "pycharm": {
     "name": "#%%\n"
    }
   },
   "outputs": [],
   "source": [
    "random.seed(43)\n",
    "\n",
    "orders = []\n",
    "workers = []\n",
    "\n",
    "for i in range(9):\n",
    "    workers.append(Courier(100, 100))\n",
    "\n",
    "orders = order_parse('orders_v1.txt')"
   ]
  },
  {
   "cell_type": "code",
   "execution_count": 81,
   "metadata": {
    "pycharm": {
     "name": "#%%\n"
    }
   },
   "outputs": [
    {
     "data": {
      "text/plain": "     0    1    2    3    4    5    6\n0  391  354  -30  -11   47  576  418\n1  395  248   77   75   -7  569  437\n2  182   46 -196 -107 -188  372  300\n3  246  110  123   10 -147  497  324\n4  254   96  -44    0 -138  456  355\n5  463  316  141  139   51  649  480\n6  351  359 -109  -39   35  586  406\n7  423  378   17   28   74  644  441\n8  339  195   24   21  -57  512  388",
      "text/html": "<div>\n<style scoped>\n    .dataframe tbody tr th:only-of-type {\n        vertical-align: middle;\n    }\n\n    .dataframe tbody tr th {\n        vertical-align: top;\n    }\n\n    .dataframe thead th {\n        text-align: right;\n    }\n</style>\n<table border=\"1\" class=\"dataframe\">\n  <thead>\n    <tr style=\"text-align: right;\">\n      <th></th>\n      <th>0</th>\n      <th>1</th>\n      <th>2</th>\n      <th>3</th>\n      <th>4</th>\n      <th>5</th>\n      <th>6</th>\n    </tr>\n  </thead>\n  <tbody>\n    <tr>\n      <th>0</th>\n      <td>391</td>\n      <td>354</td>\n      <td>-30</td>\n      <td>-11</td>\n      <td>47</td>\n      <td>576</td>\n      <td>418</td>\n    </tr>\n    <tr>\n      <th>1</th>\n      <td>395</td>\n      <td>248</td>\n      <td>77</td>\n      <td>75</td>\n      <td>-7</td>\n      <td>569</td>\n      <td>437</td>\n    </tr>\n    <tr>\n      <th>2</th>\n      <td>182</td>\n      <td>46</td>\n      <td>-196</td>\n      <td>-107</td>\n      <td>-188</td>\n      <td>372</td>\n      <td>300</td>\n    </tr>\n    <tr>\n      <th>3</th>\n      <td>246</td>\n      <td>110</td>\n      <td>123</td>\n      <td>10</td>\n      <td>-147</td>\n      <td>497</td>\n      <td>324</td>\n    </tr>\n    <tr>\n      <th>4</th>\n      <td>254</td>\n      <td>96</td>\n      <td>-44</td>\n      <td>0</td>\n      <td>-138</td>\n      <td>456</td>\n      <td>355</td>\n    </tr>\n    <tr>\n      <th>5</th>\n      <td>463</td>\n      <td>316</td>\n      <td>141</td>\n      <td>139</td>\n      <td>51</td>\n      <td>649</td>\n      <td>480</td>\n    </tr>\n    <tr>\n      <th>6</th>\n      <td>351</td>\n      <td>359</td>\n      <td>-109</td>\n      <td>-39</td>\n      <td>35</td>\n      <td>586</td>\n      <td>406</td>\n    </tr>\n    <tr>\n      <th>7</th>\n      <td>423</td>\n      <td>378</td>\n      <td>17</td>\n      <td>28</td>\n      <td>74</td>\n      <td>644</td>\n      <td>441</td>\n    </tr>\n    <tr>\n      <th>8</th>\n      <td>339</td>\n      <td>195</td>\n      <td>24</td>\n      <td>21</td>\n      <td>-57</td>\n      <td>512</td>\n      <td>388</td>\n    </tr>\n  </tbody>\n</table>\n</div>"
     },
     "execution_count": 81,
     "metadata": {},
     "output_type": "execute_result"
    }
   ],
   "source": [
    "arr = np.array([0 for n in range(len(workers) * len(orders))]).reshape(len(workers), len(orders))\n",
    "\n",
    "for i in range(len(workers)):\n",
    "    buf = np.array([0 for n in range(len(orders))])\n",
    "    for j in range(len(orders)):\n",
    "        buf[j] = income_count(orders[j], workers[i])\n",
    "    arr[i] = buf\n",
    "\n",
    "df = pd.DataFrame(arr)\n",
    "df"
   ]
  },
  {
   "cell_type": "markdown",
   "metadata": {
    "pycharm": {
     "name": "#%% md\n"
    }
   },
   "source": [
    "**Таблица с моим заработком в случае отдачи заказа тому или иному курьеру**"
   ]
  },
  {
   "cell_type": "code",
   "execution_count": 82,
   "metadata": {
    "pycharm": {
     "name": "#%%\n"
    }
   },
   "outputs": [
    {
     "name": "stdout",
     "output_type": "stream",
     "text": [
      "2099\n"
     ]
    }
   ],
   "source": [
    "res = 0\n",
    "\n",
    "\n",
    "def sort_out(free_couriers, task, income):\n",
    "    global res\n",
    "    for n in range(len(free_couriers)):\n",
    "        income += df[task][free_couriers[n]]\n",
    "        buf = free_couriers.copy()\n",
    "        buf.remove(free_couriers[n])\n",
    "        if task + 1 < len(orders):\n",
    "            sort_out(buf, task + 1, income)\n",
    "        if task + 1 == len(orders):\n",
    "            res = max(income, res)\n",
    "        income -= df[task][free_couriers[n]]\n",
    "\n",
    "\n",
    "sort_out([i for i in range(len(workers))], 0, 0)\n",
    "print(res)"
   ]
  },
  {
   "cell_type": "markdown",
   "metadata": {
    "pycharm": {
     "name": "#%% md\n"
    }
   },
   "source": [
    "**Штука считает все верно, но если в компании 2500 курьеров и 5000 заказов, то она умрет**"
   ]
  },
  {
   "cell_type": "code",
   "execution_count": 83,
   "metadata": {
    "pycharm": {
     "name": "#%%\n"
    }
   },
   "outputs": [
    {
     "name": "stdout",
     "output_type": "stream",
     "text": [
      "1904\n"
     ]
    }
   ],
   "source": [
    "res = 0\n",
    "\n",
    "\n",
    "def greedy_algorithm(df):\n",
    "    global res\n",
    "    rows = []\n",
    "    columns = []\n",
    "    df = df.reset_index()\n",
    "    for c in df.columns:\n",
    "        # print(c)\n",
    "        r = list(df[c]).index(max(df[c]))\n",
    "        # print(r, c)\n",
    "        if r not in rows:\n",
    "            rows.append(r)\n",
    "            columns.append(c)\n",
    "        else:\n",
    "            # print(-1)\n",
    "            if df[c][r] > df[columns[rows.index(r)]][r]:\n",
    "                columns[rows.index(r)] = c\n",
    "    # print(rows, columns)\n",
    "    for r, c in zip(rows, columns):\n",
    "        res += df[c][r]\n",
    "        df = df.drop([c], axis=1)\n",
    "        df = df.drop([r], axis=0)\n",
    "    if not df.empty:\n",
    "        # print(df[1][3])\n",
    "        # print(df)\n",
    "        greedy_algorithm(df)\n",
    "\n",
    "\n",
    "greedy_algorithm(df)\n",
    "print(res)"
   ]
  },
  {
   "cell_type": "markdown",
   "metadata": {
    "pycharm": {
     "name": "#%% md\n"
    }
   },
   "source": [
    "**Как видно из показанного примера, жадный алгоритм быстрее, но менее эффективный, алгоритм перебора нашёл самый оптимальный способ, но это было дольше всего**"
   ]
  },
  {
   "cell_type": "markdown",
   "metadata": {
    "pycharm": {
     "name": "#%% md\n"
    }
   },
   "source": [
    "# **Часть вторая**"
   ]
  },
  {
   "cell_type": "code",
   "execution_count": 103,
   "metadata": {
    "pycharm": {
     "name": "#%%\n"
    }
   },
   "outputs": [],
   "source": [
    "class Agent:\n",
    "    def __init__(self):\n",
    "        self.num = None\n",
    "        self.partner = None\n",
    "        self.income = 0\n",
    "\n",
    "    def update(self, other, st=0):\n",
    "        \"\"\"\n",
    "        Создаем пару Курьер-Заказ\n",
    "        \"\"\"\n",
    "        self.partner = other\n",
    "        self.other = other\n",
    "        if st == 0:\n",
    "            other.update(self, st=1)\n",
    "\n",
    "    def count(self, other):\n",
    "        \"\"\"\n",
    "        Для автоматического подсчета выручки\n",
    "        \"\"\"\n",
    "        self.income = income_count(other, self)\n",
    "        return self.income\n",
    "\n",
    "    def clear(self, st=0):\n",
    "        \"\"\"\n",
    "        Для разрыва связи Курьер-Заказ, на случай если агент нашёл лучшие условия\n",
    "        \"\"\"\n",
    "        buf = self.other\n",
    "        if self.partner:\n",
    "            self.partner = None\n",
    "            if st == 0:\n",
    "                self.other.clear(st=1)\n",
    "        return buf\n",
    "\n",
    "    def delivered(self):\n",
    "        \"\"\"\n",
    "        В случае, когда заказ доставлен и курьер должен остаться на рабочем месте, а заказ идет в сброс\n",
    "        \"\"\"\n",
    "        if self.partner:\n",
    "            self.partner = None\n",
    "            del self.other\n",
    "\n",
    "\n",
    "class Courier(Agent):\n",
    "    def __init__(self, ln, wd, num):\n",
    "        super().__init__()\n",
    "        self.pos = [random.randint(0, wd), random.randint(0, ln)]\n",
    "        self.price = random.randint(25, 40)\n",
    "        self.num = num\n",
    "\n",
    "    def __str__(self):\n",
    "        return 'Courier-{} took order number {}'.format(self.num, self.partner.num)\n",
    "\n",
    "\n",
    "class Order(Agent):\n",
    "    def __init__(self, pos1, pos2, price, num=0):\n",
    "        super().__init__()\n",
    "        self.pos1 = pos1\n",
    "        self.pos2 = pos2\n",
    "        self.price = price\n",
    "        self.num = num\n",
    "\n",
    "    def __str__(self):\n",
    "        return 'Order number {}'.format(self.num)"
   ]
  },
  {
   "cell_type": "markdown",
   "metadata": {
    "pycharm": {
     "name": "#%% md\n"
    }
   },
   "source": [
    "**Тут я написал агента, который отслеживает статус Курьера и заказа**"
   ]
  },
  {
   "cell_type": "markdown",
   "metadata": {
    "pycharm": {
     "name": "#%% md\n"
    }
   },
   "source": [
    "Идея в том, что теперь каждый курьер и заказ имеют связь друг с другом и в любой момент ее можно прервать (отдать курьеру другой заказ)"
   ]
  },
  {
   "cell_type": "code",
   "execution_count": 104,
   "metadata": {
    "pycharm": {
     "name": "#%%\n"
    }
   },
   "outputs": [],
   "source": [
    "def order_parse(file_name):\n",
    "    raf = []\n",
    "    file = open(file_name).readlines()\n",
    "    for i in range(len(file)):\n",
    "        buf = file[i].split(' ')\n",
    "        buf[0] = list(map(int, buf[0].replace('(', '').replace(')', '').split(',')))\n",
    "        buf[1] = list(map(int, buf[1].replace('(', '').replace(')', '').split(',')))\n",
    "        buf[2] = int(buf[2])\n",
    "        raf.append(Order(buf[0], buf[1], buf[2], i))\n",
    "    return raf"
   ]
  },
  {
   "cell_type": "code",
   "execution_count": 105,
   "metadata": {
    "pycharm": {
     "name": "#%%\n"
    }
   },
   "outputs": [],
   "source": [
    "random.seed(43)\n",
    "\n",
    "orders = []\n",
    "workers = []\n",
    "\n",
    "for i in range(9):\n",
    "    workers.append(Courier(100, 100, i))\n",
    "\n",
    "orders = order_parse('orders_v1.txt')"
   ]
  },
  {
   "cell_type": "code",
   "execution_count": 108,
   "metadata": {
    "pycharm": {
     "name": "#%%\n"
    }
   },
   "outputs": [
    {
     "name": "stdout",
     "output_type": "stream",
     "text": [
      "Courier-0 took order number 4\n",
      "Courier-1 took order number 3\n",
      "None\n",
      "Courier-3 took order number 2\n",
      "None\n",
      "Courier-5 took order number 0\n",
      "Courier-6 took order number 5\n",
      "Courier-7 took order number 1\n",
      "Courier-8 took order number 6\n",
      "my income is 2896.9277903707966\n"
     ]
    }
   ],
   "source": [
    "received_orders = []\n",
    "\n",
    "for i in range(len(orders)):\n",
    "    maxi = 0\n",
    "    obj = None\n",
    "    for j in range(len(workers)):\n",
    "        if workers[j].count(orders[i]) > maxi:\n",
    "            if not workers[j].partner and not orders[i].partner:\n",
    "                maxi = workers[j].count(orders[i])\n",
    "                obj = workers[j]\n",
    "            else:\n",
    "                if workers[j].income < workers[j].count(orders[i]):\n",
    "                    order = worker[j].clear()\n",
    "                    maxi = workers[j].count(orders[i])\n",
    "                    obj = workers[j]\n",
    "                    received_ordeers.remove(order)  # Убираем заказ из списка принятых и продолжаем искать вариаеты\n",
    "    if obj:\n",
    "        orders[i].update(obj)\n",
    "        received_orders.append(orders[i])  # Добавляем заказ в список принятых\n",
    "\n",
    "amount = 0\n",
    "\n",
    "for i in workers:\n",
    "    if i.partner:\n",
    "        print(i)\n",
    "        amount += i.income\n",
    "    else:\n",
    "        print(None)\n",
    "\n",
    "# for i in received_orders:\n",
    "#     print(i)\n",
    "\n",
    "print('my income is {}'.format(amount))\n",
    "\n",
    "for i in workers:\n",
    "    i.delivered()  # прерываю связь всех курьеров с заказами, а заказы удаляю\n",
    "\n",
    "del orders\n",
    "del workers"
   ]
  },
  {
   "cell_type": "markdown",
   "source": [
    "# **Часть третья**"
   ],
   "metadata": {
    "collapsed": false,
    "pycharm": {
     "name": "#%% md\n"
    }
   }
  },
  {
   "cell_type": "code",
   "execution_count": 110,
   "metadata": {
    "pycharm": {
     "name": "#%%\n"
    }
   },
   "outputs": [],
   "source": [
    "def greedy_algorithm2(ordr, work):\n",
    "    received_orders = []\n",
    "    for i in range(len(ordr)):\n",
    "        maxi = 0\n",
    "        obj = None\n",
    "        for j in range(len(work)):\n",
    "            if work[j].count(ordr[i]) > maxi and work[j].status and work[j].time_count(ordr[i]):\n",
    "                if not work[j].partner and not ordr[i].partner:\n",
    "                    maxi = work[j].count(ordr[i])\n",
    "                    obj = work[j]\n",
    "                else:\n",
    "                    if work[j].income < work[j].count(ordr[i]):\n",
    "                        ordr = work[j].clear()\n",
    "                        maxi = work[j].count(ordr[i])\n",
    "                        obj = work[j]\n",
    "                        received_ordeers.remove(ordr)  # Убираем заказ из списка принятых и продолжаем искать вариаеты\n",
    "        if obj:\n",
    "            ordr[i].update(obj)\n",
    "            received_orders.append(ordr[i])  # Добавляем заказ в список принятых\n",
    "\n",
    "    return received_orders"
   ]
  },
  {
   "cell_type": "markdown",
   "source": [
    "**Усложним наш алгоритм и поставим его так, чтобы он также ориентировался на то, работает ли сейчас курьер. Еще добавим оценку времени - надо учитывать, что какие-то Курьеры могут не успеть доставить продукт тк долго идти**"
   ],
   "metadata": {
    "collapsed": false,
    "pycharm": {
     "name": "#%% md\n"
    }
   }
  },
  {
   "cell_type": "code",
   "execution_count": 111,
   "outputs": [],
   "source": [
    "class Time:\n",
    "    def __init__(self):\n",
    "        self.hours = 9\n",
    "        self.minutes = 0\n",
    "\n",
    "    def __str__(self):\n",
    "        if self.minutes < 10:\n",
    "            return '{}:0{}'.format(self.hours, self.minutes)\n",
    "        else:\n",
    "            return '{}:{}'.format(self.hours, self.minutes)\n",
    "\n",
    "    def __add__(self, other):\n",
    "        h = self.hours + other[0] + (self.minutes + other[1]) // 60\n",
    "        m = (self.minutes + other[1]) % 60\n",
    "        return [h, m]\n",
    "\n",
    "\n",
    "time = Time()"
   ],
   "metadata": {
    "collapsed": false,
    "pycharm": {
     "name": "#%%\n"
    }
   }
  },
  {
   "cell_type": "markdown",
   "source": [
    "**Усложним нашу задачу и добавим новый параметр - время и посмотрим что вышло**"
   ],
   "metadata": {
    "collapsed": false,
    "pycharm": {
     "name": "#%% md\n"
    }
   }
  },
  {
   "cell_type": "code",
   "execution_count": 112,
   "metadata": {
    "pycharm": {
     "name": "#%%\n"
    }
   },
   "outputs": [],
   "source": [
    "class Agent:\n",
    "    def __init__(self):\n",
    "        self.num = None\n",
    "        self.partner = None\n",
    "        self.income = 0\n",
    "\n",
    "    def update(self, other, st=0):\n",
    "        \"\"\"\n",
    "        Создаем пару Курьер-Заказ\n",
    "        \"\"\"\n",
    "        self.partner = other\n",
    "        self.other = other\n",
    "        if st == 0:\n",
    "            other.update(self, st=1)\n",
    "\n",
    "    def count(self, other):\n",
    "        \"\"\"\n",
    "        Для автоматического подсчета выручки\n",
    "        \"\"\"\n",
    "        self.income = income_count(other, self)\n",
    "        return self.income\n",
    "\n",
    "    def clear(self, st=0):\n",
    "        \"\"\"\n",
    "        Для разрыва связи Курьер-Заказ, на случай если агент нашёл лучшие условия\n",
    "        \"\"\"\n",
    "        buf = self.other\n",
    "        if self.partner:\n",
    "            self.partner = None\n",
    "            if st == 0:\n",
    "                self.other.clear(st=1)\n",
    "        return buf\n",
    "\n",
    "    def delivered(self):\n",
    "        \"\"\"\n",
    "        В случае, когда заказ доставлен и курьер должен остаться на рабочем месте, а заказ идет в сброс\n",
    "        \"\"\"\n",
    "        if self.partner:\n",
    "            self.partner = None\n",
    "            del self.other\n",
    "\n",
    "\n",
    "class Courier(Agent):\n",
    "    def __init__(self, ln, wd, num=0):\n",
    "        super().__init__()\n",
    "        self.pos = [random.randint(0, wd), random.randint(0, ln)]\n",
    "        self.price = random.randint(25, 40)\n",
    "        self.start_time = [random.randint(8, 9), random.randint(0, 50)]\n",
    "        self.end_time = [self.start_time[0] + 12, self.start_time[1]]\n",
    "        self.status = True if time.hours > self.start_time[0] or (\n",
    "                    time.hours == self.start_time[0] and time.minutes >= self.start_time[\n",
    "                1]) else False  # Добавим статус курьера, чтобы проверять, работает он или нет\n",
    "        self.num = num\n",
    "\n",
    "    def time_count(self, other):\n",
    "        \"\"\"\n",
    "        Метод для проверки, успеет ли курьер вовремя доставить заказ, если нет - то сразу его отсеиваем\n",
    "        param: в себя объект заказа\n",
    "        return: True/False в зависимости от возможности курьера\n",
    "        \"\"\"\n",
    "        dist1 = math.sqrt((self.pos[0] - other.pos1[0]) ** 2 + (self.pos[1] - other.pos1[1]) ** 2)\n",
    "        dist2 = math.sqrt((other.pos1[0] - other.pos2[0]) ** 2 + (other.pos1[1] - other.pos2[1]) ** 2)\n",
    "        dist = dist1 + dist2\n",
    "        timing = [(dist / 10) // 5, (dist / 10) % 5 / 5 * 60]\n",
    "\n",
    "        delivery_time = time + timing\n",
    "        if delivery_time[0] < other.timing[0] or (\n",
    "                delivery_time[0] == other.timing[0] and delivery_time[1] < other.timing[1]):\n",
    "            return True\n",
    "        else:\n",
    "            return False\n",
    "\n",
    "    def __str__(self):\n",
    "        return 'Courier-{} took order number {}'.format(self.num, self.partner.num)\n",
    "\n",
    "\n",
    "class Order(Agent):\n",
    "    \"\"\"\n",
    "    Пока оставим заказ в формате чтения из файла, в последствии для демонстрации сделаем рандомную генерацию\n",
    "    \"\"\"\n",
    "\n",
    "    def __init__(self, pos1, pos2, price, t, num):\n",
    "        super().__init__()\n",
    "        self.pos1 = pos1\n",
    "        self.pos2 = pos2\n",
    "        self.price = price\n",
    "        self.timing = [t[0], t[1]]\n",
    "        self.num = num\n",
    "\n",
    "    def __str__(self):\n",
    "        return 'Order number {}'.format(self.num)"
   ]
  },
  {
   "cell_type": "code",
   "execution_count": 113,
   "outputs": [],
   "source": [
    "def order_parse(file_name):\n",
    "    raf = []\n",
    "    file = open(file_name).readlines()\n",
    "    for i in range(len(file)):\n",
    "        buf = file[i].split(' ')\n",
    "        buf[0] = list(map(int, buf[0].replace('(', '').replace(')', '').split(',')))\n",
    "        buf[1] = list(map(int, buf[1].replace('(', '').replace(')', '').split(',')))\n",
    "        buf[2] = int(buf[2])\n",
    "        buf[3] = list(map(int, buf[3].split(':')))\n",
    "        raf.append(Order(buf[0], buf[1], buf[2], buf[3], i))\n",
    "    return raf"
   ],
   "metadata": {
    "collapsed": false,
    "pycharm": {
     "name": "#%%\n"
    }
   }
  },
  {
   "cell_type": "markdown",
   "source": [
    "**Время на часах 9 утра. Напишем алгоритм, который будет брать лишь тех курьеров, которые работают.**\n",
    "Также стоит учитывать, что Расстояние важно по причине расчета времени, будем брать лишь тех курьеров, которые будут в состоянии доставить заказ вовремя."
   ],
   "metadata": {
    "collapsed": false,
    "pycharm": {
     "name": "#%% md\n"
    }
   }
  },
  {
   "cell_type": "code",
   "execution_count": 114,
   "outputs": [],
   "source": [
    "random.seed(43)\n",
    "\n",
    "orders = []\n",
    "workers = []\n",
    "\n",
    "for i in range(15):\n",
    "    workers.append(Courier(100, 100, i))\n",
    "\n",
    "orders = order_parse('orders_v2.txt')"
   ],
   "metadata": {
    "collapsed": false,
    "pycharm": {
     "name": "#%%\n"
    }
   }
  },
  {
   "cell_type": "code",
   "execution_count": 115,
   "outputs": [
    {
     "name": "stdout",
     "output_type": "stream",
     "text": [
      "None\tOFF\n",
      "None\tOFF\n",
      "None\tOFF\n",
      "None\tOFF\n",
      "None\tOFF\n",
      "Courier-5 took order number 10\tON\n",
      "None\tON\n",
      "None\tON\n",
      "Courier-8 took order number 6\tON\n",
      "Courier-9 took order number 2\tON\n",
      "None\tOFF\n",
      "Courier-11 took order number 7\tON\n",
      "None\tON\n",
      "Courier-13 took order number 1\tON\n",
      "None\tOFF\n",
      "my income is 878.8262477053449\n"
     ]
    }
   ],
   "source": [
    "received_orders = greedy_algorithm2(orders, workers)\n",
    "\n",
    "amount = 0\n",
    "\n",
    "for i in workers:\n",
    "    if i.partner:\n",
    "        print(i, end='\\t')\n",
    "        amount += i.income\n",
    "        if i.status:\n",
    "            print('ON')\n",
    "        else:\n",
    "            print('OFF')\n",
    "    else:\n",
    "        print(None, end='\\t')\n",
    "        if i.status:\n",
    "            print('ON')\n",
    "        else:\n",
    "            print('OFF')\n",
    "\n",
    "print('my income is {}'.format(amount))\n",
    "\n",
    "for i in workers:\n",
    "    i.delivered()  # прерываю связь всех курьеров с заказами, а заказы удаляю"
   ],
   "metadata": {
    "collapsed": false,
    "pycharm": {
     "name": "#%%\n"
    }
   }
  },
  {
   "cell_type": "markdown",
   "source": [
    "**Упс, к сожалению вышло так, что не все заказы доставлены...**\n",
    "(Попробуем сделать еще одну штуку - добавим параметры к курьеру - end_work и start_work вместо статуса, это позволит нам проверять когда курьер будет готов доставить заказ, вдруг он еще не вышел на работу, но выйдет минут через 5 и он максимально близок к заказу и он один успеет доставить заказ)"
   ],
   "metadata": {
    "collapsed": false,
    "pycharm": {
     "name": "#%% md\n"
    }
   }
  },
  {
   "cell_type": "code",
   "execution_count": 116,
   "outputs": [],
   "source": [
    "class Courier(Agent):\n",
    "    def __init__(self, ln, wd, num=0):\n",
    "        super().__init__()\n",
    "        self.pos = [random.randint(0, wd), random.randint(0, ln)]\n",
    "        self.price = random.randint(25, 40)\n",
    "        self.start_time = [random.randint(8, 9), random.randint(0, 50)]\n",
    "        self.end_time = [self.start_time[0] + 12, self.start_time[1]]\n",
    "        self.start_work = True if time.hours in range(self.start_time[0] + 1, self.end_time[0]) or (\n",
    "                    time.hours == self.start_time and time.minutes in range(self.start_time[1], 60)) or (\n",
    "                                              time.hours == self.end_time and time.minutes in range(0, self.end_time[\n",
    "                                          1] + 1)) else False  # Проверяем вышел ли Курьер на работу\n",
    "        self.end_work = True if time.hours > self.end_time[0] or (\n",
    "                    time.hours == self.end_time[0] and time.minutes > self.end_time[\n",
    "                1]) else False  # Проверяем закончил ли Курьер работу\n",
    "        if not self.end_work and not self.start_work:\n",
    "            self.wait = [self.start_time[0] - time.hours, self.start_time[1] - time.minutes]\n",
    "        else:\n",
    "            self.wait = [0, 0]\n",
    "        self.num = num\n",
    "\n",
    "    def time_count(self, other):\n",
    "        \"\"\"\n",
    "        Метод для проверки, успеет ли курьер вовремя доставить заказ, если нет - то сразу его отсеиваем\n",
    "        param: в себя объект заказа\n",
    "        return: True/False в зависимости от возможности курьера\n",
    "        \"\"\"\n",
    "\n",
    "        dist1 = math.sqrt((self.pos[0] - other.pos1[0]) ** 2 + (self.pos[1] - other.pos1[1]) ** 2)\n",
    "        dist2 = math.sqrt((other.pos1[0] - other.pos2[0]) ** 2 + (other.pos1[1] - other.pos2[1]) ** 2)\n",
    "        dist = dist1 + dist2\n",
    "        timing = [(dist / 10) // 5 + self.wait[0], (dist / 10) % 5 / 5 * 60 + self.wait[\n",
    "            1]]  #  Делаем подсчёт времени для доставки Курьером продукта, если он скоро выйдет на работу\n",
    "\n",
    "        delivery_time = time + timing\n",
    "        if delivery_time[0] < other.timing[0] or (\n",
    "                delivery_time[0] == other.timing[0] and delivery_time[1] < other.timing[1]):\n",
    "            return True\n",
    "        else:\n",
    "            return False\n",
    "\n",
    "    def __str__(self):\n",
    "        return 'Courier-{} took order number {}'.format(self.num, self.partner.num)"
   ],
   "metadata": {
    "collapsed": false,
    "pycharm": {
     "name": "#%%\n"
    }
   }
  },
  {
   "cell_type": "code",
   "execution_count": 117,
   "outputs": [],
   "source": [
    "def greedy_algorithm3(ordr, work):\n",
    "    received_orders = []\n",
    "    for i in range(len(ordr)):\n",
    "        maxi = 0\n",
    "        obj = None\n",
    "        for j in range(len(work)):\n",
    "            if work[j].count(ordr[i]) > maxi and not work[j].end_work and work[j].time_count(\n",
    "                    ordr[i]):  # Теперь мы учитываем и тех Курьеров, которые скоро могут выйти\n",
    "                if not work[j].partner and not ordr[i].partner:\n",
    "                    maxi = work[j].count(ordr[i])\n",
    "                    obj = work[j]\n",
    "                else:\n",
    "                    if work[j].income < work[j].count(ordr[i]):\n",
    "                        ordr = work[j].clear()\n",
    "                        maxi = work[j].count(ordr[i])\n",
    "                        obj = work[j]\n",
    "                        received_ordeers.remove(ordr)  # Убираем заказ из списка принятых и продолжаем искать вариаеты\n",
    "        if obj:\n",
    "            ordr[i].update(obj)\n",
    "            received_orders.append(ordr[i])  # Добавляем заказ в список принятых\n",
    "\n",
    "    return received_orders"
   ],
   "metadata": {
    "collapsed": false,
    "pycharm": {
     "name": "#%%\n"
    }
   }
  },
  {
   "cell_type": "code",
   "execution_count": 118,
   "outputs": [],
   "source": [
    "random.seed(43)\n",
    "\n",
    "orders = []\n",
    "workers = []\n",
    "\n",
    "for i in range(15):\n",
    "    workers.append(Courier(100, 100, i))\n",
    "\n",
    "orders = order_parse('orders_v2.txt')"
   ],
   "metadata": {
    "collapsed": false,
    "pycharm": {
     "name": "#%%\n"
    }
   }
  },
  {
   "cell_type": "code",
   "execution_count": 119,
   "outputs": [
    {
     "name": "stdout",
     "output_type": "stream",
     "text": [
      "Courier-0 took order number 1\tOFF\n",
      "Courier-1 took order number 7\tOFF\n",
      "None\tOFF\n",
      "None\tOFF\n",
      "None\tOFF\n",
      "None\tON\n",
      "None\tON\n",
      "None\tON\n",
      "Courier-8 took order number 10\tON\n",
      "Courier-9 took order number 2\tON\n",
      "None\tOFF\n",
      "None\tON\n",
      "None\tON\n",
      "Courier-13 took order number 6\tON\n",
      "None\tOFF\n",
      "my income is 1031.5346156709802\n"
     ]
    }
   ],
   "source": [
    "received_orders = greedy_algorithm3(orders, workers)\n",
    "\n",
    "amount = 0\n",
    "\n",
    "for i in workers:\n",
    "    if i.partner:\n",
    "        print(i, end='\\t')\n",
    "        amount += i.income\n",
    "        if i.start_work:\n",
    "            print('ON')\n",
    "        else:\n",
    "            print('OFF')\n",
    "    else:\n",
    "        print(None, end='\\t')\n",
    "        if i.start_work:\n",
    "            print('ON')\n",
    "        else:\n",
    "            print('OFF')\n",
    "\n",
    "print('my income is {}'.format(amount))\n",
    "\n",
    "for i in workers:\n",
    "    i.delivered()  # прерываю связь всех курьеров с заказами, а заказы удаляю"
   ],
   "metadata": {
    "collapsed": false,
    "pycharm": {
     "name": "#%%\n"
    }
   }
  },
  {
   "cell_type": "markdown",
   "source": [
    "**Как мы видим в этом примере, я смог увеличить свою выручку, учитывая Курьеров, которые могут освободиться через некоторе время**\n",
    "(В последствии можно это добавить Курьерам, которые уже взяли заказ. Это позволит высчитать через сколько они закончат, и сразу поставить им в wait-list новый заказ)"
   ],
   "metadata": {
    "collapsed": false,
    "pycharm": {
     "name": "#%% md\n"
    }
   }
  },
  {
   "cell_type": "markdown",
   "source": [
    "# **Часть Четвертая**"
   ],
   "metadata": {
    "collapsed": false,
    "pycharm": {
     "name": "#%% md\n"
    }
   }
  },
  {
   "cell_type": "markdown",
   "source": [
    "Для начала упростим классы Курьеров и Заказов, чтобы всё воспринималось легче"
   ],
   "metadata": {
    "collapsed": false,
    "pycharm": {
     "name": "#%% md\n"
    }
   }
  },
  {
   "cell_type": "code",
   "execution_count": 174,
   "outputs": [],
   "source": [
    "class Time:\n",
    "    def __init__(self):\n",
    "        self.hours = 9\n",
    "        self.minutes = 0\n",
    "\n",
    "    def update(self):\n",
    "        self.minutes = (self.minutes + 1) % 60\n",
    "        self.hours += (self.minutes + 1) // 60\n",
    "        self.__str__()\n",
    "\n",
    "    def __str__(self):\n",
    "        if self.minutes < 10:\n",
    "            return '{}:0{}'.format(self.hours, self.minutes)\n",
    "        else:\n",
    "            return '{}:{}'.format(self.hours, self.minutes)\n",
    "\n",
    "    def __add__(self, other):\n",
    "        h = self.hours + other[0] + (self.minutes + other[1]) // 60\n",
    "        m = (self.minutes + other[1]) % 60\n",
    "        return [h, m]\n",
    "\n",
    "    def __lt__(self, other):\n",
    "        if self.hours < other[0] or (self.hours == other[0] and self.minutes < other[1]):\n",
    "            return True\n",
    "        else:\n",
    "            return False\n",
    "\n",
    "    def __gt__(self, other):\n",
    "        if self.hours > other[0] or (self.hours == other[0] and self.minutes > other[1]):\n",
    "            return True\n",
    "        else:\n",
    "            return False\n",
    "\n",
    "\n",
    "time = Time()\n",
    "\n",
    "\n",
    "class Agent:\n",
    "    def __init__(self):\n",
    "        self.num = None\n",
    "        self.partner = None\n",
    "        self.income = 0\n",
    "\n",
    "    def connect(self, other, st=0):\n",
    "        \"\"\"\n",
    "        Создаем пару Курьер-Заказ\n",
    "        \"\"\"\n",
    "        self.partner = other\n",
    "        if st == 0:\n",
    "            other.connect(self, st=1)\n",
    "\n",
    "    def count(self, other):\n",
    "        \"\"\"\n",
    "        Для автоматического подсчета выручки\n",
    "        \"\"\"\n",
    "        dst = dist_count(self.pos, other.pos1) + dist_count(other.pos1, other.pos2)\n",
    "        self.income = other.price - self.price * dst / 10\n",
    "        return self.income\n",
    "\n",
    "    def clear(self, st=0, delivered=False):\n",
    "        \"\"\"\n",
    "        Для разрыва связи Курьер-Заказ, на случай если агент нашёл лучшие условия\n",
    "        param: delivered (bool) - если True, то заказ был доставлен и мы удаляем его из базы, иначе просто разрываем связь Courier-Order\n",
    "        \"\"\"\n",
    "        buf = self.other\n",
    "\n",
    "        if delivered:\n",
    "            if self.partner:\n",
    "                del self.partner\n",
    "                self.partner = None\n",
    "        else:\n",
    "            if self.partner:\n",
    "                if st == 0:\n",
    "                    self.partner.clear(st=1)\n",
    "                self.partner = None\n",
    "            return buf\n",
    "\n",
    "    def dist_count(self, dot1, dot2):\n",
    "        return math.sqrt((dot1[0] - dot2[0]) ** 2 + (dot1[1] - dot2[1]) ** 2)\n",
    "\n",
    "    def delivered(self):\n",
    "        \"\"\"\n",
    "        В случае, когда заказ доставлен и курьер должен остаться на рабочем месте, а заказ идет в сброс\n",
    "        \"\"\"\n",
    "        if self.partner:\n",
    "            self.partner = None\n",
    "            del self.other\n",
    "\n",
    "\n",
    "class Courier(Agent):\n",
    "    def __init__(self, ln, wd, num=0):\n",
    "        super().__init__()\n",
    "        self.pos = [random.randint(0, wd), random.randint(0, ln)]\n",
    "        self.price = random.randint(25, 40)\n",
    "        self.start_time = [random.randint(8, 9), random.randint(0, 50)]\n",
    "        self.end_time = [self.start_time[0] + 12, self.start_time[1]]\n",
    "        self.start_work = self.start_time < time  # Проверяем вышел ли Курьер на работу\n",
    "        self.end_work = self.end_time < time  # Проверяем закончил ли Курьер работу\n",
    "        self.status = self.start_work and not self.end_work\n",
    "        if not self.end_work and not self.start_work:  # Смотрим через сколько Курьер выйдет на работу\n",
    "            self.wait = [self.start_time[0] - time.hours, self.start_time[1] - time.minutes]\n",
    "        else:\n",
    "            self.wait = [0, 0]\n",
    "        self.num = num\n",
    "        self.vector = None\n",
    "        self.k = None\n",
    "        self.b = None\n",
    "\n",
    "    def route(self, pt=0):\n",
    "        if self.partner:\n",
    "            if pt == 0:\n",
    "                self.k = (self.pos[1] - self.partner.pos1[1])/(self.pos[0] - self.partner.pos1[0])\n",
    "                self.b = self.pos[1] - self.k*self.pos[0]\n",
    "            elif pt == 1:\n",
    "                self.k = (self.partner.pos2[1] - self.partner.pos1[1])/(self.partner.pos2[0] - self.partner.pos1[0])\n",
    "                self.b = self.partner.pos1[1] - k*self.partner.pos1[0]\n",
    "\n",
    "    def calculate_position(self):   # Обновлять позицию будем каждую секунду (минуту) => он будет проходить 100м за минуту (скорость 6км/ч) это 10 клеточек\n",
    "        \"\"\"\n",
    "        В данной ситуации мы столкнемся с тем, что мы знаем график прямой, по которой идет курьер. И знаем расстояние, на которое он пройдет. Но мы не знаем где он окажется по итогу. Для этого решим следующее уравнение:\n",
    "        x0, y0, k, b, s - известны\n",
    "        x1, y1 - нужно найти (y1 = k*x1 + b)\n",
    "        sqrt((x1-x0)^2 + (y1-y0)^2) = s\n",
    "        Преобразовав его, получим это:\n",
    "        x1^2 * (1+k^2) - x1 * (2*x0 + 2*y0*k - 2*k*b) + (x0^2 + y0^2 - 2*y0*b + b^2 - s^2) = 0\n",
    "        Решим квадратное уравнение, найдём x1, а за тем y1\n",
    "        \"\"\"\n",
    "        a = 1+self.k**2\n",
    "        b = 2*self.pos[0]+2*self.pos[1]*self.k-2*self.k*self.b\n",
    "        c = self.pos[0]**2+self.pos[1]**2-2*self.pos[1]*self.b+self.b**2-10**2\n",
    "        D = b**2 - 4*a*c\n",
    "        if self.pos[1] < self.partner.pos1[1] and self.pos[0] < self.partner.pos1[0]:\n",
    "            x = max((b+math.sqrt(D))/(2*a), (b-math.sqrt(D))/(2*a))\n",
    "        elif self.pos[1] < self.partner.pos1[1] and self.pos[0] > self.partner.pos1[0]:\n",
    "            x = min((b+math.sqrt(D))/(2*a), (b-math.sqrt(D))/(2*a))\n",
    "        elif self.pos[1] > self.partner.pos1[1] and self.pos[0] < self.partner.pos1[0]:\n",
    "            x = max((b+math.sqrt(D))/(2*a), (b-math.sqrt(D))/(2*a))\n",
    "        else:\n",
    "            x = min((b+math.sqrt(D))/(2*a), (b-math.sqrt(D))/(2*a))\n",
    "        y = self.k*x+self.b\n",
    "        self.pos = [x, y]   # Обновляем позицию\n",
    "\n",
    "    def time_count(self, other):\n",
    "        \"\"\"\n",
    "        Метод для проверки, успеет ли курьер вовремя доставить заказ, если нет - то сразу его отсеиваем\n",
    "        param: в себя объект заказа\n",
    "        return: True/False в зависимости от возможности курьера\n",
    "        \"\"\"\n",
    "\n",
    "        dist = self.dist_count(self.pos, other.pos1) + self.dist_count(other.pos1, other.pos2)\n",
    "        timing = [(dist / 10) // 6, (\n",
    "                    dist / 10) % 6 / 6 * 60]  #  Делаем подсчёт времени для доставки Курьером продукта, если он скоро выйдет на работу\n",
    "\n",
    "        delivery_time = time + timing + self.wait\n",
    "        if other.timing > delivery_time:\n",
    "            return True\n",
    "        else:\n",
    "            return False\n",
    "\n",
    "    def update(self):\n",
    "        \"\"\"\n",
    "        Метод для обновления позиции Курьера и отслеживания его статуса - работает раз в секунду (минута времени в эмуляции)\n",
    "        \"\"\"\n",
    "        self.start_work = self.start_time < time  # Проверяем вышел ли Курьер на работу\n",
    "        self.end_work = self.end_time < time  # Проверяем закончил ли Курьер работу\n",
    "        self.status = self.start_work and not self.end_work\n",
    "        if self.partner:    # Если Курьер взялся доставлять заказ\n",
    "            self.route()                # Тут нужно просчитывать его передвижение по маршруту (или в нашем случае по прямой, что по идее легче)\n",
    "            self.calculate_position()   # есть начальная и конечная точка графика, просто найдём уравнение его вектора перемещения и будем высчитывать координату\n",
    "\n",
    "    def __str__(self):\n",
    "        return 'Courier-{} took order number {}'.format(self.num, self.partner.num)\n",
    "\n",
    "\n",
    "class Order(Agent):\n",
    "    \"\"\"\n",
    "    Пока оставим заказ в формате чтения из файла, в последствии для демонстрации сделаем рандомную генерацию\n",
    "    \"\"\"\n",
    "\n",
    "    def __init__(self, pos1, pos2, price, t, num):\n",
    "        super().__init__()\n",
    "        self.pos1 = pos1\n",
    "        self.pos2 = pos2\n",
    "        self.price = price\n",
    "        self.timing = [t[0], t[1]]\n",
    "        self.num = num\n",
    "\n",
    "    def __gt__(self, other):\n",
    "        if self.timing[0] > other[0] or (self.timing[0] == other[0] and self.timing[1] > other[1]):\n",
    "            return True\n",
    "        else:\n",
    "            return False\n",
    "\n",
    "    def __str__(self):\n",
    "        return 'Order number {}'.format(self.num)"
   ],
   "metadata": {
    "collapsed": false,
    "pycharm": {
     "name": "#%%\n"
    }
   }
  },
  {
   "cell_type": "markdown",
   "source": [
    "**Проверим как работает наш код на плоскости:**"
   ],
   "metadata": {
    "collapsed": false,
    "pycharm": {
     "name": "#%% md\n"
    }
   }
  },
  {
   "cell_type": "code",
   "execution_count": 184,
   "outputs": [
    {
     "data": {
      "text/plain": "<Figure size 432x288 with 1 Axes>",
      "image/png": "[encoded data removed]"
     },
     "metadata": {
      "needs_background": "light"
     },
     "output_type": "display_data"
    }
   ],
   "source": [
    "import matplotlib.pyplot as plt\n",
    "\n",
    "# random.seed(37)\n",
    "\n",
    "o = Order([23, 34], [78, 89], 894, [11, 20], 7)\n",
    "w = Courier(100, 100)\n",
    "\n",
    "plt.plot([o.pos1[0]], [o.pos1[1]], color='yellow', marker='o')\n",
    "plt.plot([o.pos2[0]], [o.pos2[1]], color='red', marker='o')\n",
    "plt.plot([w.pos[0]], [w.pos[1]], color='green', marker='o')\n",
    "plt.show()"
   ],
   "metadata": {
    "collapsed": false,
    "pycharm": {
     "name": "#%%\n"
    }
   }
  },
  {
   "cell_type": "markdown",
   "source": [
    "**Теперь сделаем так, чтобы наш курьер шёл и за ним рисовался график, чтобы мы видели, пойдёт ли он в нужном направлении**"
   ],
   "metadata": {
    "collapsed": false,
    "pycharm": {
     "name": "#%% md\n"
    }
   }
  },
  {
   "cell_type": "code",
   "execution_count": 185,
   "outputs": [
    {
     "data": {
      "text/plain": "<Figure size 432x288 with 1 Axes>",
      "image/png": "[encoded data removed]"
     },
     "metadata": {
      "needs_background": "light"
     },
     "output_type": "display_data"
    }
   ],
   "source": [
    "w.connect(o)\n",
    "\n",
    "plt.plot([o.pos1[0]], [o.pos1[1]], color='yellow', marker='o')\n",
    "plt.plot([o.pos2[0]], [o.pos2[1]], color='red', marker='o')\n",
    "\n",
    "x = [w.pos[0]]\n",
    "y = [w.pos[1]]\n",
    "\n",
    "\n",
    "\n",
    "for i in range(20):\n",
    "    w.update()\n",
    "    x.append(w.pos[0])\n",
    "    y.append(w.pos[1])\n",
    "\n",
    "plt.plot(x, y, color='green', marker='o')\n",
    "\n",
    "plt.show()"
   ],
   "metadata": {
    "collapsed": false,
    "pycharm": {
     "name": "#%%\n"
    }
   }
  },
  {
   "cell_type": "markdown",
   "source": [
    "**Как видно из графика, курьер нормально двигается по отношению к цели, теперь перенесем прописанные классы в отдельный файл и сделаем библиотеку**"
   ],
   "metadata": {
    "collapsed": false,
    "pycharm": {
     "name": "#%% md\n"
    }
   }
  }
 ],
 "metadata": {
  "kernelspec": {
   "display_name": "Python 3",
   "language": "python",
   "name": "python3"
  },
  "language_info": {
   "codemirror_mode": {
    "name": "ipython",
    "version": 3
   },
   "file_extension": ".py",
   "mimetype": "text/x-python",
   "name": "python",
   "nbconvert_exporter": "python",
   "pygments_lexer": "ipython3",
   "version": "3.9.10"
  },
  "orig_nbformat": 4
 },
 "nbformat": 4,
 "nbformat_minor": 2
}